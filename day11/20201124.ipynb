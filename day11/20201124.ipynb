{
 "cells": [
  {
   "cell_type": "code",
   "execution_count": 1,
   "metadata": {},
   "outputs": [],
   "source": [
    "import tensorflow as tf"
   ]
  },
  {
   "cell_type": "code",
   "execution_count": 2,
   "metadata": {},
   "outputs": [],
   "source": [
    "mnist = tf.keras.datasets.mnist\n",
    "\n",
    "(x_train, y_train), (x_test, y_test) = mnist.load_data()\n",
    "x_train, x_test = x_train / 255.0, x_test / 255.0"
   ]
  },
  {
   "cell_type": "code",
   "execution_count": 3,
   "metadata": {},
   "outputs": [],
   "source": [
    "model = tf.keras.models.Sequential([\n",
    "  tf.keras.layers.Flatten(input_shape=(28, 28)),\n",
    "  tf.keras.layers.Dense(128, activation='relu'),\n",
    "  tf.keras.layers.Dropout(0.2),\n",
    "  tf.keras.layers.Dense(10,activation='softmax')\n",
    "])"
   ]
  },
  {
   "cell_type": "code",
   "execution_count": 4,
   "metadata": {},
   "outputs": [],
   "source": [
    "loss_fn = tf.keras.losses.SparseCategoricalCrossentropy(from_logits=True)\n",
    "model.compile(optimizer='adam',\n",
    "              loss=loss_fn,\n",
    "              metrics=['accuracy'])"
   ]
  },
  {
   "cell_type": "code",
   "execution_count": 5,
   "metadata": {},
   "outputs": [
    {
     "name": "stdout",
     "output_type": "stream",
     "text": [
      "Epoch 1/5\n",
      "1875/1875 [==============================] - 2s 890us/step - loss: 1.5812 - accuracy: 0.8981\n",
      "Epoch 2/5\n",
      "1875/1875 [==============================] - 2s 897us/step - loss: 1.5226 - accuracy: 0.9445\n",
      "Epoch 3/5\n",
      "1875/1875 [==============================] - 2s 863us/step - loss: 1.5091 - accuracy: 0.9563\n",
      "Epoch 4/5\n",
      "1875/1875 [==============================] - 2s 810us/step - loss: 1.5016 - accuracy: 0.9632\n",
      "Epoch 5/5\n",
      "1875/1875 [==============================] - 2s 905us/step - loss: 1.4969 - accuracy: 0.9669\n"
     ]
    },
    {
     "data": {
      "text/plain": [
       "<tensorflow.python.keras.callbacks.History at 0x7f8fad83c880>"
      ]
     },
     "execution_count": 5,
     "metadata": {},
     "output_type": "execute_result"
    }
   ],
   "source": [
    "model.fit(x_train, y_train, epochs=5)"
   ]
  },
  {
   "cell_type": "code",
   "execution_count": 6,
   "metadata": {},
   "outputs": [
    {
     "name": "stdout",
     "output_type": "stream",
     "text": [
      "313/313 - 0s - loss: 1.4944 - accuracy: 0.9680\n"
     ]
    },
    {
     "data": {
      "text/plain": [
       "[1.4943747520446777, 0.9679999947547913]"
      ]
     },
     "execution_count": 6,
     "metadata": {},
     "output_type": "execute_result"
    }
   ],
   "source": [
    "model.evaluate(x_test,  y_test, verbose=2)"
   ]
  },
  {
   "cell_type": "code",
   "execution_count": 7,
   "metadata": {},
   "outputs": [
    {
     "data": {
      "text/plain": [
       "array([[3.0286992e-11, 4.9344383e-15, 1.4916227e-10, 5.8193301e-04,\n",
       "        4.8021508e-28, 9.9941814e-01, 2.2044518e-16, 3.4469093e-15,\n",
       "        1.4657351e-14, 4.3419082e-13]], dtype=float32)"
      ]
     },
     "execution_count": 7,
     "metadata": {},
     "output_type": "execute_result"
    }
   ],
   "source": [
    "model(x_train[:1]).numpy()"
   ]
  },
  {
   "cell_type": "code",
   "execution_count": 8,
   "metadata": {},
   "outputs": [
    {
     "data": {
      "text/plain": [
       "array([[3.0286992e-11, 4.9344383e-15, 1.4916227e-10, 5.8193301e-04,\n",
       "        4.8021508e-28, 9.9941814e-01, 2.2044518e-16, 3.4469093e-15,\n",
       "        1.4657351e-14, 4.3419082e-13]], dtype=float32)"
      ]
     },
     "execution_count": 8,
     "metadata": {},
     "output_type": "execute_result"
    }
   ],
   "source": [
    "model.predict(x_train[:1])"
   ]
  },
  {
   "cell_type": "code",
   "execution_count": 9,
   "metadata": {},
   "outputs": [
    {
     "name": "stdout",
     "output_type": "stream",
     "text": [
      "I'm a black cat.\n",
      "I'm a cat.\n"
     ]
    }
   ],
   "source": [
    "class Cat():\n",
    "    def __inti__(self):\n",
    "        pass\n",
    "    def speak(self):\n",
    "        print(\"I'm a cat.\")\n",
    "        \n",
    "class Blackcat(Cat):\n",
    "    def speak(self):\n",
    "        print(\"I'm a black cat.\")\n",
    "        \n",
    "cat = Blackcat()\n",
    "cat.speak()\n",
    "super(Blackcat, cat).speak()"
   ]
  },
  {
   "cell_type": "code",
   "execution_count": 10,
   "metadata": {},
   "outputs": [
    {
     "name": "stdout",
     "output_type": "stream",
     "text": [
      "tf.Tensor([0.09832661 0.28986484 0.22925596 0.69229396], shape=(4,), dtype=float64) tf.Tensor(\n",
      "[[0.77411072]\n",
      " [0.71968523]\n",
      " [0.57123012]\n",
      " [0.22089048]], shape=(4, 1), dtype=float64)\n"
     ]
    }
   ],
   "source": [
    "import numpy as np\n",
    "a = tf.constant(np.random.rand(4,))\n",
    "b = tf.constant(np.random.rand(4,1))\n",
    "print(a,b)"
   ]
  },
  {
   "cell_type": "code",
   "execution_count": null,
   "metadata": {},
   "outputs": [],
   "source": []
  }
 ],
 "metadata": {
  "kernelspec": {
   "display_name": "Python 3",
   "language": "python",
   "name": "python3"
  },
  "language_info": {
   "codemirror_mode": {
    "name": "ipython",
    "version": 3
   },
   "file_extension": ".py",
   "mimetype": "text/x-python",
   "name": "python",
   "nbconvert_exporter": "python",
   "pygments_lexer": "ipython3",
   "version": "3.8.3"
  }
 },
 "nbformat": 4,
 "nbformat_minor": 4
}
