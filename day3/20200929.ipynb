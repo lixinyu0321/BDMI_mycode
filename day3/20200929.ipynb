{
 "cells": [
  {
   "cell_type": "markdown",
   "metadata": {},
   "source": [
    "# 文件IO\n",
    "- 常用IO模式\n",
    "- 常用IO函数"
   ]
  },
  {
   "cell_type": "markdown",
   "metadata": {},
   "source": [
    "## 想一想，练一练1"
   ]
  },
  {
   "cell_type": "code",
   "execution_count": 1,
   "metadata": {},
   "outputs": [],
   "source": [
    "import os"
   ]
  },
  {
   "cell_type": "code",
   "execution_count": 13,
   "metadata": {},
   "outputs": [],
   "source": [
    "data_dir = '/Users/lixinyu/Desktop'\n",
    "file_path = os.path.join(data_dir, 'myclassmates.txt')\n",
    "\n",
    "with open(file_path, 'w') as file:\n",
    "    file.write('Name1 School1\\n')\n",
    "    file.write('Name2 School2\\n')\n",
    "    file.write('Name3 School3\\n')"
   ]
  },
  {
   "cell_type": "code",
   "execution_count": 14,
   "metadata": {},
   "outputs": [
    {
     "name": "stdout",
     "output_type": "stream",
     "text": [
      "Name1 School1\n",
      "Name2 School2\n",
      "Name3 School3\n"
     ]
    }
   ],
   "source": [
    "with open(file_path, 'r') as file:\n",
    "    for line in file:\n",
    "        print(line.strip())"
   ]
  },
  {
   "cell_type": "code",
   "execution_count": 15,
   "metadata": {},
   "outputs": [],
   "source": [
    "with open(file_path, 'a') as file:\n",
    "    file.write('Name4 School4')"
   ]
  },
  {
   "cell_type": "code",
   "execution_count": 16,
   "metadata": {},
   "outputs": [
    {
     "name": "stdout",
     "output_type": "stream",
     "text": [
      "Name1 School1\n",
      "Name2 School2\n",
      "Name3 School3\n",
      "Name4 School4\n"
     ]
    }
   ],
   "source": [
    "with open(file_path, 'r') as file:\n",
    "    for line in file:\n",
    "        print(line.strip())"
   ]
  },
  {
   "cell_type": "markdown",
   "metadata": {},
   "source": [
    "## 想一想，练一练2"
   ]
  },
  {
   "cell_type": "code",
   "execution_count": 18,
   "metadata": {},
   "outputs": [],
   "source": [
    "import numpy as np"
   ]
  },
  {
   "cell_type": "code",
   "execution_count": 21,
   "metadata": {},
   "outputs": [],
   "source": [
    "pool = np.arange(101)\n",
    "np.random.seed(42)\n",
    "randint = np.random.choice(pool, 20)\n",
    "\n",
    "file_path2 = os.path.join(data_dir, 'data.txt')\n",
    "with open(file_path2, 'w') as file:\n",
    "    for num in randint:\n",
    "        file.write(str(num) + ' ')"
   ]
  },
  {
   "cell_type": "code",
   "execution_count": 26,
   "metadata": {},
   "outputs": [],
   "source": [
    "with open(file_path2, 'r') as file:\n",
    "    for line in file:\n",
    "        rand_list = line.split(' ')[:-1]\n",
    "        rand_list = [int(i) for i in rand_list]"
   ]
  },
  {
   "cell_type": "code",
   "execution_count": 27,
   "metadata": {},
   "outputs": [
    {
     "data": {
      "text/plain": [
       "[51, 92, 14, 71, 60, 20, 82, 86, 74, 74, 87, 99, 23, 2, 21, 52, 1, 87, 29, 37]"
      ]
     },
     "execution_count": 27,
     "metadata": {},
     "output_type": "execute_result"
    }
   ],
   "source": [
    "rand_list"
   ]
  },
  {
   "cell_type": "markdown",
   "metadata": {},
   "source": [
    "# 包，模块"
   ]
  },
  {
   "cell_type": "markdown",
   "metadata": {},
   "source": [
    "# tkinter"
   ]
  },
  {
   "cell_type": "code",
   "execution_count": 29,
   "metadata": {},
   "outputs": [],
   "source": [
    "from tkinter import *"
   ]
  },
  {
   "cell_type": "code",
   "execution_count": 40,
   "metadata": {},
   "outputs": [],
   "source": [
    "def add_together():\n",
    "    command_str = name_box.get()\n",
    "    a = float(command_str.split(' ')[0])\n",
    "    b = float(command_str.split(' ')[1])\n",
    "    result.insert(END, str(a)+'+'+str(b)+'='+ str(a+b))\n",
    "    \n",
    "    name_box.delete(0, END)\n",
    "    name_box.focus()\n",
    "\n",
    "def clear_list():\n",
    "    result.delete(0, END)\n",
    "    result.focus()\n",
    "\n",
    "window = Tk()\n",
    "window.geometry('800x400')\n",
    "\n",
    "label1 = Label(text = \"Enter a and b\")\n",
    "label1.place(x=10, y=20, width=100, height=30)\n",
    "\n",
    "name_box = Entry(text=0)\n",
    "name_box.place(x=120, y=20, width=200, height=30)\n",
    "name_box.focus()\n",
    "\n",
    "button1 = Button(text=\"Add to list\", command = add_together)\n",
    "button1.place(x=350, y=20, width=100, height=25)\n",
    "\n",
    "result = Listbox()\n",
    "result.place(x=120, y=50, width=200, height=30)\n",
    "\n",
    "button2 = Button(text=\"Clear list\", command = clear_list)\n",
    "button2.place(x=350, y=50, width=100, height=25)\n",
    "\n",
    "window.mainloop()"
   ]
  },
  {
   "cell_type": "markdown",
   "metadata": {},
   "source": [
    "# 排序"
   ]
  },
  {
   "cell_type": "code",
   "execution_count": 41,
   "metadata": {},
   "outputs": [],
   "source": [
    "def merge_sort(arr):\n",
    "    if len(arr) == 1:\n",
    "        return arr\n",
    "    \n",
    "    mid = len(arr) // 2\n",
    "    left = arr[:mid]\n",
    "    right = arr[mid:]\n",
    "    \n",
    "    return marge(merge_sort(left), merge_sort(right))\n",
    "\n",
    "\n",
    "def marge(left, right):\n",
    "    \n",
    "    result = []\n",
    "\n",
    "    while len(left) > 0 and len(right) > 0:\n",
    "        if left[0] <= right[0]:\n",
    "            result.append(left.pop(0))\n",
    "        else:\n",
    "            result.append(right.pop(0))\n",
    "            \n",
    "    result += left\n",
    "    result += right\n",
    "    \n",
    "    return result"
   ]
  },
  {
   "cell_type": "code",
   "execution_count": 43,
   "metadata": {},
   "outputs": [
    {
     "name": "stdout",
     "output_type": "stream",
     "text": [
      "[51, 92, 14, 71, 60, 20, 82, 86, 74, 74, 87, 99, 23, 2, 21, 52, 1, 87, 29, 37]\n",
      "[1, 2, 14, 20, 21, 23, 29, 37, 51, 52, 60, 71, 74, 74, 82, 86, 87, 87, 92, 99]\n"
     ]
    }
   ],
   "source": [
    "with open(file_path2, 'r') as file:\n",
    "    for line in file:\n",
    "        rand_list = line.split(' ')[:-1]\n",
    "        rand_list = [int(i) for i in rand_list]\n",
    "\n",
    "print(rand_list)\n",
    "print(merge_sort(rand_list))"
   ]
  },
  {
   "cell_type": "code",
   "execution_count": 44,
   "metadata": {},
   "outputs": [],
   "source": [
    "file_path3 = os.path.join(data_dir, 'data_sorted.txt')\n",
    "with open(file_path3, 'w') as file:\n",
    "    for num in merge_sort(rand_list):\n",
    "        file.write(str(num) + ' ')"
   ]
  },
  {
   "cell_type": "code",
   "execution_count": null,
   "metadata": {},
   "outputs": [],
   "source": []
  }
 ],
 "metadata": {
  "kernelspec": {
   "display_name": "Python 3",
   "language": "python",
   "name": "python3"
  },
  "language_info": {
   "codemirror_mode": {
    "name": "ipython",
    "version": 3
   },
   "file_extension": ".py",
   "mimetype": "text/x-python",
   "name": "python",
   "nbconvert_exporter": "python",
   "pygments_lexer": "ipython3",
   "version": "3.8.3"
  }
 },
 "nbformat": 4,
 "nbformat_minor": 4
}
