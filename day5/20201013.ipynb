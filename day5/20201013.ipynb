{
 "cells": [
  {
   "cell_type": "code",
   "execution_count": 3,
   "metadata": {},
   "outputs": [],
   "source": [
    "class hash_table:\n",
    "    def __init__(self, n):\n",
    "        self.bucket_num = n\n",
    "        self.buckets = [[] for i in range(n)]\n",
    "    \n",
    "    def hash_function(self, num):\n",
    "        return int(7 * num) % 5\n",
    "    \n",
    "    def save(self, lst):\n",
    "        for num in lst:\n",
    "            idx = self.hash_function(num)\n",
    "            self.buckets[idx].append(num)\n",
    "            \n",
    "    def delete(self, num):\n",
    "        idx = self.hash_function(num)\n",
    "        if num in self.buckets[idx]:\n",
    "            self.buckets[idx].remove(num)\n",
    "        else:\n",
    "            print('no such number!')\n",
    "    \n",
    "    def show(self):\n",
    "        print(self.buckets)"
   ]
  },
  {
   "cell_type": "code",
   "execution_count": 4,
   "metadata": {},
   "outputs": [],
   "source": [
    "test = hash_table(5)\n",
    "test.save([7,5,3,4,1,2,8])\n",
    "test.save([9])\n",
    "test.delete(4)"
   ]
  },
  {
   "cell_type": "code",
   "execution_count": 5,
   "metadata": {},
   "outputs": [
    {
     "name": "stdout",
     "output_type": "stream",
     "text": [
      "[[5], [3, 8], [1], [9], [7, 2]]\n"
     ]
    }
   ],
   "source": [
    "test.show()"
   ]
  },
  {
   "cell_type": "code",
   "execution_count": 6,
   "metadata": {},
   "outputs": [],
   "source": [
    "# database"
   ]
  },
  {
   "cell_type": "code",
   "execution_count": 7,
   "metadata": {},
   "outputs": [],
   "source": [
    "import sqlite3"
   ]
  },
  {
   "cell_type": "code",
   "execution_count": 9,
   "metadata": {},
   "outputs": [],
   "source": [
    "Db = sqlite3.connect('univeristy.db')\n",
    "cursor = Db.cursor()"
   ]
  },
  {
   "cell_type": "code",
   "execution_count": 13,
   "metadata": {},
   "outputs": [
    {
     "data": {
      "text/plain": [
       "<sqlite3.Cursor at 0x7fa3e89769d0>"
      ]
     },
     "execution_count": 13,
     "metadata": {},
     "output_type": "execute_result"
    }
   ],
   "source": [
    "cursor.execute(\"\"\"CREATE TABLE IF NOT EXISTS students(\n",
    "id integer PRIMARY KEY,\n",
    "name text NOT NULL,\n",
    "class text NOT NULL,\n",
    "grade integer);\"\"\")"
   ]
  },
  {
   "cell_type": "code",
   "execution_count": 14,
   "metadata": {},
   "outputs": [],
   "source": [
    "cursor.execute(\"\"\"INSERT INTO students(id, name, class, grade)\n",
    "VALUES(1,'Marry', 'Python', 67);\"\"\")\n",
    "Db.commit()"
   ]
  },
  {
   "cell_type": "code",
   "execution_count": 15,
   "metadata": {},
   "outputs": [
    {
     "name": "stdout",
     "output_type": "stream",
     "text": [
      "[(1, 'Marry', 'Python', 67)]\n"
     ]
    }
   ],
   "source": [
    "cursor.execute(\"\"\"SELECT * FROM students;\n",
    "\"\"\")\n",
    "print(cursor.fetchall())"
   ]
  },
  {
   "cell_type": "code",
   "execution_count": 16,
   "metadata": {},
   "outputs": [
    {
     "data": {
      "text/plain": [
       "<sqlite3.Cursor at 0x7fa3e89769d0>"
      ]
     },
     "execution_count": 16,
     "metadata": {},
     "output_type": "execute_result"
    }
   ],
   "source": [
    "cursor.execute(\"\"\"INSERT INTO students(id, name, class, grade)\n",
    "VALUES(2,'Sam', 'C++', 76);\"\"\")\n",
    "cursor.execute(\"\"\"INSERT INTO students(id, name, class, grade)\n",
    "VALUES(3,'Tom', 'Java', 88);\"\"\")"
   ]
  },
  {
   "cell_type": "code",
   "execution_count": 17,
   "metadata": {},
   "outputs": [
    {
     "name": "stdout",
     "output_type": "stream",
     "text": [
      "[(1, 'Marry', 'Python', 67), (2, 'Sam', 'C++', 76), (3, 'Tom', 'Java', 88)]\n"
     ]
    }
   ],
   "source": [
    "cursor.execute(\"\"\"SELECT * FROM students;\n",
    "\"\"\")\n",
    "print(cursor.fetchall())"
   ]
  },
  {
   "cell_type": "code",
   "execution_count": 19,
   "metadata": {},
   "outputs": [],
   "source": [
    "cursor = Db.cursor()"
   ]
  },
  {
   "cell_type": "code",
   "execution_count": 20,
   "metadata": {},
   "outputs": [
    {
     "data": {
      "text/plain": [
       "<sqlite3.Cursor at 0x7fa3e83e70a0>"
      ]
     },
     "execution_count": 20,
     "metadata": {},
     "output_type": "execute_result"
    }
   ],
   "source": [
    "cursor.execute(\"\"\"CREATE TABLE IF NOT EXISTS class(\n",
    "id integer PRIMARY KEY,\n",
    "name text NOT NULL,\n",
    "teacher text NOT NULL);\"\"\")"
   ]
  },
  {
   "cell_type": "code",
   "execution_count": 22,
   "metadata": {},
   "outputs": [
    {
     "data": {
      "text/plain": [
       "<sqlite3.Cursor at 0x7fa3e83e70a0>"
      ]
     },
     "execution_count": 22,
     "metadata": {},
     "output_type": "execute_result"
    }
   ],
   "source": [
    "cursor.execute(\"\"\"INSERT INTO class(id, name, teacher)\n",
    "VALUES(20, 'C++', 'XiaoMing');\"\"\")\n",
    "cursor.execute(\"\"\"INSERT INTO class(id, name, teacher)\n",
    "VALUES(30, 'Java', 'LiHua');\"\"\")\n",
    "cursor.execute(\"\"\"INSERT INTO class(id, name, teacher)\n",
    "VALUES(10, 'Python', 'WangHong');\"\"\")"
   ]
  },
  {
   "cell_type": "code",
   "execution_count": 23,
   "metadata": {},
   "outputs": [
    {
     "name": "stdout",
     "output_type": "stream",
     "text": [
      "[(10, 'Python', 'WangHong'), (20, 'C++', 'XiaoMing'), (30, 'Java', 'LiHua')]\n"
     ]
    }
   ],
   "source": [
    "cursor.execute(\"\"\"SELECT * FROM class;\n",
    "\"\"\")\n",
    "print(cursor.fetchall())"
   ]
  },
  {
   "cell_type": "code",
   "execution_count": 27,
   "metadata": {},
   "outputs": [],
   "source": [
    "Db.commit()"
   ]
  },
  {
   "cell_type": "code",
   "execution_count": 26,
   "metadata": {},
   "outputs": [
    {
     "data": {
      "text/plain": [
       "<sqlite3.Cursor at 0x7fa3e83e70a0>"
      ]
     },
     "execution_count": 26,
     "metadata": {},
     "output_type": "execute_result"
    }
   ],
   "source": [
    "cursor.execute(\"\"\"UPDATE students \n",
    "SET name='Richard'\n",
    "WHERE id=1;\n",
    "\"\"\")"
   ]
  },
  {
   "cell_type": "code",
   "execution_count": 28,
   "metadata": {},
   "outputs": [],
   "source": [
    "Db.commit()"
   ]
  },
  {
   "cell_type": "code",
   "execution_count": 29,
   "metadata": {},
   "outputs": [
    {
     "name": "stdout",
     "output_type": "stream",
     "text": [
      "[(1, 'Richard', 'Python', 67), (2, 'Sam', 'C++', 76), (3, 'Tom', 'Java', 88)]\n"
     ]
    }
   ],
   "source": [
    "cursor.execute(\"\"\"SELECT * FROM students;\n",
    "\"\"\")\n",
    "print(cursor.fetchall())"
   ]
  },
  {
   "cell_type": "code",
   "execution_count": 31,
   "metadata": {},
   "outputs": [
    {
     "data": {
      "text/plain": [
       "<sqlite3.Cursor at 0x7fa3e83e70a0>"
      ]
     },
     "execution_count": 31,
     "metadata": {},
     "output_type": "execute_result"
    }
   ],
   "source": [
    "cursor.execute(\"\"\"SELECT students.id, students.name, class.teacher\n",
    "FROM students, class\n",
    "WHERE students.class = class.name\n",
    "AND students.grade > 80;\n",
    "\"\"\")"
   ]
  },
  {
   "cell_type": "code",
   "execution_count": 32,
   "metadata": {},
   "outputs": [
    {
     "name": "stdout",
     "output_type": "stream",
     "text": [
      "[(3, 'Tom', 'LiHua')]\n"
     ]
    }
   ],
   "source": [
    "print(cursor.fetchall())"
   ]
  },
  {
   "cell_type": "code",
   "execution_count": 34,
   "metadata": {},
   "outputs": [
    {
     "data": {
      "text/plain": [
       "<sqlite3.Cursor at 0x7fa3e86dbc70>"
      ]
     },
     "execution_count": 34,
     "metadata": {},
     "output_type": "execute_result"
    }
   ],
   "source": [
    "cursor = Db.cursor()\n",
    "cursor.execute(\"\"\"CREATE TABLE IF NOT EXISTS enrolled(\n",
    "id_stu integer,\n",
    "id_class integer,\n",
    "grade integer NOT NULL,\n",
    "PRIMARY KEY(id_stu, id_class));\"\"\")"
   ]
  },
  {
   "cell_type": "code",
   "execution_count": 35,
   "metadata": {},
   "outputs": [
    {
     "data": {
      "text/plain": [
       "<sqlite3.Cursor at 0x7fa3e86dbc70>"
      ]
     },
     "execution_count": 35,
     "metadata": {},
     "output_type": "execute_result"
    }
   ],
   "source": [
    "cursor.execute(\"\"\"INSERT INTO enrolled(id_stu, id_class, grade)\n",
    "VALUES(2, 'Sam', 76);\"\"\")\n",
    "cursor.execute(\"\"\"INSERT INTO enrolled(id_stu, id_class, grade)\n",
    "VALUES(3, 'Tom', 88);\"\"\")\n",
    "cursor.execute(\"\"\"INSERT INTO enrolled(id_stu, id_class, grade)\n",
    "VALUES(1, 'Richard', 67);\"\"\")"
   ]
  },
  {
   "cell_type": "code",
   "execution_count": 36,
   "metadata": {},
   "outputs": [
    {
     "data": {
      "text/plain": [
       "<sqlite3.Cursor at 0x7fa3e86dbc70>"
      ]
     },
     "execution_count": 36,
     "metadata": {},
     "output_type": "execute_result"
    }
   ],
   "source": [
    "cursor.execute(\"\"\"SELECT students.name, students.class, enrolled.id_class\n",
    "FROM students\n",
    "INNER JOIN enrolled\n",
    "ON students.id = enrolled.id_stu\n",
    "\"\"\")"
   ]
  },
  {
   "cell_type": "code",
   "execution_count": 37,
   "metadata": {},
   "outputs": [
    {
     "name": "stdout",
     "output_type": "stream",
     "text": [
      "[('Richard', 'Python', 'Richard'), ('Sam', 'C++', 'Sam'), ('Tom', 'Java', 'Tom')]\n"
     ]
    }
   ],
   "source": [
    "print(cursor.fetchall())"
   ]
  },
  {
   "cell_type": "code",
   "execution_count": null,
   "metadata": {},
   "outputs": [],
   "source": []
  }
 ],
 "metadata": {
  "kernelspec": {
   "display_name": "Python 3",
   "language": "python",
   "name": "python3"
  },
  "language_info": {
   "codemirror_mode": {
    "name": "ipython",
    "version": 3
   },
   "file_extension": ".py",
   "mimetype": "text/x-python",
   "name": "python",
   "nbconvert_exporter": "python",
   "pygments_lexer": "ipython3",
   "version": "3.8.3"
  }
 },
 "nbformat": 4,
 "nbformat_minor": 4
}
