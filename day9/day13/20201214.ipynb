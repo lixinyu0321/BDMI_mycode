{
 "cells": [
  {
   "cell_type": "code",
   "execution_count": 1,
   "metadata": {},
   "outputs": [],
   "source": [
    "import tensorflow as tf\n",
    "import tensorflow.keras\n",
    "\n",
    "from tensorflow.keras import layers, losses, optimizers, Sequential"
   ]
  },
  {
   "cell_type": "code",
   "execution_count": 2,
   "metadata": {},
   "outputs": [
    {
     "name": "stdout",
     "output_type": "stream",
     "text": [
      "tf.Tensor([0 1 2 3 4 5 6 7 8 9], shape=(10,), dtype=int32)\n",
      "tf.Tensor(\n",
      "[[ 0.03482603 -0.03197817 -0.01530094  0.0476951 ]\n",
      " [-0.02601637  0.04675907 -0.03088318  0.01866532]\n",
      " [-0.02318355  0.03795299  0.04055852  0.01197658]\n",
      " [ 0.01851684 -0.02938117 -0.02994657  0.04311985]\n",
      " [-0.0212698   0.01545134  0.00206415 -0.00722749]\n",
      " [ 0.04096618  0.03300068  0.04420466  0.02338122]\n",
      " [-0.02917941 -0.02275266  0.03522915 -0.04593877]\n",
      " [ 0.03672196  0.01744754  0.04838767  0.00731013]\n",
      " [ 0.03615047 -0.01593577  0.03365907  0.0152669 ]\n",
      " [ 0.01987157 -0.01301886  0.02645913  0.04009027]], shape=(10, 4), dtype=float32)\n"
     ]
    }
   ],
   "source": [
    "x = tf.range(10)\n",
    "print(x)\n",
    "x = tf.random.shuffle(x)\n",
    "net = layers.Embedding(10,4)\n",
    "out = net(x)\n",
    "print(out)"
   ]
  },
  {
   "cell_type": "code",
   "execution_count": 3,
   "metadata": {},
   "outputs": [
    {
     "data": {
      "text/plain": [
       "<tf.Variable 'embedding/embeddings:0' shape=(10, 4) dtype=float32, numpy=\n",
       "array([[-0.02917941, -0.02275266,  0.03522915, -0.04593877],\n",
       "       [ 0.04096618,  0.03300068,  0.04420466,  0.02338122],\n",
       "       [ 0.03672196,  0.01744754,  0.04838767,  0.00731013],\n",
       "       [ 0.01851684, -0.02938117, -0.02994657,  0.04311985],\n",
       "       [-0.02601637,  0.04675907, -0.03088318,  0.01866532],\n",
       "       [ 0.03482603, -0.03197817, -0.01530094,  0.0476951 ],\n",
       "       [-0.02318355,  0.03795299,  0.04055852,  0.01197658],\n",
       "       [ 0.01987157, -0.01301886,  0.02645913,  0.04009027],\n",
       "       [-0.0212698 ,  0.01545134,  0.00206415, -0.00722749],\n",
       "       [ 0.03615047, -0.01593577,  0.03365907,  0.0152669 ]],\n",
       "      dtype=float32)>"
      ]
     },
     "execution_count": 3,
     "metadata": {},
     "output_type": "execute_result"
    }
   ],
   "source": [
    "net.embeddings"
   ]
  },
  {
   "cell_type": "code",
   "execution_count": 4,
   "metadata": {},
   "outputs": [
    {
     "data": {
      "text/plain": [
       "[<tf.Variable 'kernel:0' shape=(4, 3) dtype=float32, numpy=\n",
       " array([[ 0.171893  , -0.64852244,  0.57171607],\n",
       "        [ 0.4939884 , -0.05699605, -0.75201803],\n",
       "        [ 0.43041778,  0.14538538,  0.06341827],\n",
       "        [ 0.28989935,  0.40283763, -0.4997841 ]], dtype=float32)>,\n",
       " <tf.Variable 'recurrent_kernel:0' shape=(3, 3) dtype=float32, numpy=\n",
       " array([[ 0.21136546,  0.94367784,  0.25455195],\n",
       "        [ 0.9734269 , -0.17976123, -0.14186592],\n",
       "        [-0.08811715,  0.2777733 , -0.95659673]], dtype=float32)>,\n",
       " <tf.Variable 'bias:0' shape=(3,) dtype=float32, numpy=array([0., 0., 0.], dtype=float32)>]"
      ]
     },
     "execution_count": 4,
     "metadata": {},
     "output_type": "execute_result"
    }
   ],
   "source": [
    "cell = layers.SimpleRNNCell(3)\n",
    "cell.build(input_shape = (None,4))\n",
    "cell.trainable_variables"
   ]
  },
  {
   "cell_type": "code",
   "execution_count": null,
   "metadata": {},
   "outputs": [],
   "source": []
  }
 ],
 "metadata": {
  "kernelspec": {
   "display_name": "Python 3",
   "language": "python",
   "name": "python3"
  },
  "language_info": {
   "codemirror_mode": {
    "name": "ipython",
    "version": 3
   },
   "file_extension": ".py",
   "mimetype": "text/x-python",
   "name": "python",
   "nbconvert_exporter": "python",
   "pygments_lexer": "ipython3",
   "version": "3.8.3"
  }
 },
 "nbformat": 4,
 "nbformat_minor": 4
}
